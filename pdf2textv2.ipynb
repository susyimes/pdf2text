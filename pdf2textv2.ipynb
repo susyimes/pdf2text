{
  "cells": [
    {
      "cell_type": "markdown",
      "metadata": {
        "id": "view-in-github",
        "colab_type": "text"
      },
      "source": [
        "<a href=\"https://colab.research.google.com/github/susyimes/pdf2text/blob/main/pdf2textv2.ipynb\" target=\"_parent\"><img src=\"https://colab.research.google.com/assets/colab-badge.svg\" alt=\"Open In Colab\"/></a>"
      ]
    },
    {
      "cell_type": "code",
      "execution_count": null,
      "metadata": {
        "colab": {
          "base_uri": "https://localhost:8080/"
        },
        "id": "vPGT39V4rgeK",
        "outputId": "7f68cf2c-4e3d-4ac7-8a42-9cdfdfdd520d"
      },
      "outputs": [
        {
          "output_type": "stream",
          "name": "stdout",
          "text": [
            "Requirement already satisfied: pymupdf in /usr/local/lib/python3.10/dist-packages (1.23.8)\n",
            "Requirement already satisfied: PyMuPDFb==1.23.7 in /usr/local/lib/python3.10/dist-packages (from pymupdf) (1.23.7)\n",
            "Reading package lists... Done\n",
            "Building dependency tree... Done\n",
            "Reading state information... Done\n",
            "tesseract-ocr is already the newest version (4.1.1-2.1build1).\n",
            "0 upgraded, 0 newly installed, 0 to remove and 24 not upgraded.\n",
            "Requirement already satisfied: pytesseract in /usr/local/lib/python3.10/dist-packages (0.3.10)\n",
            "Requirement already satisfied: packaging>=21.3 in /usr/local/lib/python3.10/dist-packages (from pytesseract) (23.2)\n",
            "Requirement already satisfied: Pillow>=8.0.0 in /usr/local/lib/python3.10/dist-packages (from pytesseract) (9.4.0)\n",
            "Reading package lists... Done\n",
            "Building dependency tree... Done\n",
            "Reading state information... Done\n",
            "tesseract-ocr-chi-sim is already the newest version (1:4.00~git30-7274cfa-1.1).\n",
            "0 upgraded, 0 newly installed, 0 to remove and 24 not upgraded.\n",
            "Reading package lists... Done\n",
            "Building dependency tree... Done\n",
            "Reading state information... Done\n",
            "tesseract-ocr-eng is already the newest version (1:4.00~git30-7274cfa-1.1).\n",
            "0 upgraded, 0 newly installed, 0 to remove and 24 not upgraded.\n",
            "Drive already mounted at /content/drive; to attempt to forcibly remount, call drive.mount(\"/content/drive\", force_remount=True).\n"
          ]
        }
      ],
      "source": [
        "# 安装所需的库\n",
        "!pip install pymupdf\n",
        "!sudo apt install tesseract-ocr\n",
        "!pip install pytesseract\n",
        "!sudo apt-get install tesseract-ocr-chi-sim\n",
        "!sudo apt-get install tesseract-ocr-eng\n",
        "\n",
        "# import fitz  # PyMuPDF\n",
        "# from PIL import Image, ImageEnhance, ImageFilter\n",
        "# import pytesseract\n",
        "# import io\n",
        "\n",
        "\n",
        "# pdf_path = '/content/光伏93题.pdf'  # 替换成你的 PDF 文件路径\n",
        "# doc = fitz.open(pdf_path)\n",
        "\n",
        "# all_text = \"\"\n",
        "# for page_num in range(len(doc)):\n",
        "#     page = doc.load_page(page_num)\n",
        "#     pix = page.get_pixmap(dpi=500)  # 提高 DPI\n",
        "#     img_data = pix.tobytes(\"png\")\n",
        "#     image = Image.open(io.BytesIO(img_data))\n",
        "\n",
        "#     # 图像预处理\n",
        "#     image = image.filter(ImageFilter.MedianFilter())  # 中值滤波去噪\n",
        "#     image = ImageEnhance.Contrast(image).enhance(3)  # 增强对比度\n",
        "\n",
        "#     all_text += pytesseract.image_to_string(image, lang='chi_sim+eng', config='--psm 3 --oem 1')\n",
        "\n",
        "# print(all_text)\n",
        "# # 将提取的文本保存到与 PDF 同一路径的 TXT 文件\n",
        "# txt_path = pdf_path.replace('.pdf', '.txt')\n",
        "\n",
        "# with open(txt_path, 'w', encoding='utf-8') as file:\n",
        "#     file.write(all_text)\n",
        "from google.colab import drive\n",
        "drive.mount('/content/drive')\n",
        "import os\n",
        "import fitz  # PyMuPDF\n",
        "from PIL import Image, ImageEnhance, ImageFilter\n",
        "import pytesseract\n",
        "import io\n",
        "import cv2\n",
        "import numpy as np\n",
        "from concurrent.futures import ThreadPoolExecutor\n",
        "\n",
        "def process_pdf_to_text(pdf_path, txt_path):\n",
        "    doc = fitz.open(pdf_path)\n",
        "    all_text = \"\"\n",
        "    for page_num in range(len(doc)):\n",
        "        page = doc.load_page(page_num)\n",
        "        pix = page.get_pixmap(dpi=400) # best 400\n",
        "        img_data = pix.tobytes(\"png\")\n",
        "        image = Image.open(io.BytesIO(img_data))\n",
        "\n",
        "        # 图像预处理\n",
        "        image = image.convert('L')  # 转换为灰度图\n",
        "        image = image.filter(ImageFilter.MedianFilter())  # 中值滤波去噪\n",
        "        image = ImageEnhance.Contrast(image).enhance(3)  # 增强对比度\n",
        "\n",
        "        # # 添加二值化处理\n",
        "\n",
        "        image = np.array(image)  # 将 PIL 图像转换为 NumPy 数组\n",
        "        _, binary_image = cv2.threshold(image, 0, 255, cv2.THRESH_BINARY + cv2.THRESH_OTSU)\n",
        "        image = Image.fromarray(binary_image)  # 将 NumPy 数组转换回 PIL 图像\n",
        "\n",
        "        # OCR 处理 best 6\n",
        "        all_text += pytesseract.image_to_string(image, lang='chi_sim', config='--psm 6 --oem 3')\n",
        "\n",
        "    with open(txt_path, 'w', encoding='utf-8') as file:\n",
        "        file.write(all_text)\n",
        "\n",
        "def process_pdf_directory(directory):\n",
        "    with ThreadPoolExecutor(max_workers=2) as executor:\n",
        "        for filename in os.listdir(directory):\n",
        "            if filename.endswith('.pdf'):\n",
        "                pdf_path = os.path.join(directory, filename)\n",
        "                txt_path = pdf_path.replace('.pdf', '.txt')\n",
        "                executor.submit(process_pdf_to_text, pdf_path, txt_path)\n",
        "\n",
        "directory = '/content/pdf/05'  # 替换为你的 PDF 文件夹路径\n",
        "process_pdf_directory(directory)\n",
        "\n"
      ]
    }
  ],
  "metadata": {
    "colab": {
      "machine_shape": "hm",
      "provenance": [],
      "mount_file_id": "1vAimd6GsABzk_G4wj-EQvPX1w672MKtV",
      "authorship_tag": "ABX9TyPf04yWuuPC8tChy5KcxnMJ",
      "include_colab_link": true
    },
    "kernelspec": {
      "display_name": "Python 3",
      "name": "python3"
    },
    "language_info": {
      "name": "python"
    }
  },
  "nbformat": 4,
  "nbformat_minor": 0
}